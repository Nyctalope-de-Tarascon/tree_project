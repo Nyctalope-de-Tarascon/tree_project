{
 "cells": [
  {
   "cell_type": "code",
   "execution_count": 164,
   "metadata": {},
   "outputs": [
    {
     "ename": "KeyboardInterrupt",
     "evalue": "",
     "output_type": "error",
     "traceback": [
      "\u001b[0;31m---------------------------------------------------------------------------\u001b[0m",
      "\u001b[0;31mKeyboardInterrupt\u001b[0m                         Traceback (most recent call last)",
      "\u001b[0;32m<ipython-input-164-d9747f369c78>\u001b[0m in \u001b[0;36m<module>\u001b[0;34m\u001b[0m\n\u001b[1;32m     90\u001b[0m     \u001b[0;32mreturn\u001b[0m \u001b[0;34m(\u001b[0m\u001b[0mlen\u001b[0m\u001b[0;34m(\u001b[0m\u001b[0mgenre_list\u001b[0m\u001b[0;34m)\u001b[0m\u001b[0;34m)\u001b[0m\u001b[0;34m\u001b[0m\u001b[0;34m\u001b[0m\u001b[0m\n\u001b[1;32m     91\u001b[0m \u001b[0;34m\u001b[0m\u001b[0m\n\u001b[0;32m---> 92\u001b[0;31m \u001b[0mtimeit\u001b[0m\u001b[0;34m.\u001b[0m\u001b[0mtimeit\u001b[0m\u001b[0;34m(\u001b[0m\u001b[0mget_all_genres\u001b[0m\u001b[0;34m)\u001b[0m\u001b[0;34m\u001b[0m\u001b[0;34m\u001b[0m\u001b[0m\n\u001b[0m\u001b[1;32m     93\u001b[0m \u001b[0;34m\u001b[0m\u001b[0m\n\u001b[1;32m     94\u001b[0m \u001b[0;34m\u001b[0m\u001b[0m\n",
      "\u001b[0;32m~/anaconda3/lib/python3.8/timeit.py\u001b[0m in \u001b[0;36mtimeit\u001b[0;34m(stmt, setup, timer, number, globals)\u001b[0m\n\u001b[1;32m    231\u001b[0m            number=default_number, globals=None):\n\u001b[1;32m    232\u001b[0m     \u001b[0;34m\"\"\"Convenience function to create Timer object and call timeit method.\"\"\"\u001b[0m\u001b[0;34m\u001b[0m\u001b[0;34m\u001b[0m\u001b[0m\n\u001b[0;32m--> 233\u001b[0;31m     \u001b[0;32mreturn\u001b[0m \u001b[0mTimer\u001b[0m\u001b[0;34m(\u001b[0m\u001b[0mstmt\u001b[0m\u001b[0;34m,\u001b[0m \u001b[0msetup\u001b[0m\u001b[0;34m,\u001b[0m \u001b[0mtimer\u001b[0m\u001b[0;34m,\u001b[0m \u001b[0mglobals\u001b[0m\u001b[0;34m)\u001b[0m\u001b[0;34m.\u001b[0m\u001b[0mtimeit\u001b[0m\u001b[0;34m(\u001b[0m\u001b[0mnumber\u001b[0m\u001b[0;34m)\u001b[0m\u001b[0;34m\u001b[0m\u001b[0;34m\u001b[0m\u001b[0m\n\u001b[0m\u001b[1;32m    234\u001b[0m \u001b[0;34m\u001b[0m\u001b[0m\n\u001b[1;32m    235\u001b[0m def repeat(stmt=\"pass\", setup=\"pass\", timer=default_timer,\n",
      "\u001b[0;32m~/anaconda3/lib/python3.8/timeit.py\u001b[0m in \u001b[0;36mtimeit\u001b[0;34m(self, number)\u001b[0m\n\u001b[1;32m    175\u001b[0m         \u001b[0mgc\u001b[0m\u001b[0;34m.\u001b[0m\u001b[0mdisable\u001b[0m\u001b[0;34m(\u001b[0m\u001b[0;34m)\u001b[0m\u001b[0;34m\u001b[0m\u001b[0;34m\u001b[0m\u001b[0m\n\u001b[1;32m    176\u001b[0m         \u001b[0;32mtry\u001b[0m\u001b[0;34m:\u001b[0m\u001b[0;34m\u001b[0m\u001b[0;34m\u001b[0m\u001b[0m\n\u001b[0;32m--> 177\u001b[0;31m             \u001b[0mtiming\u001b[0m \u001b[0;34m=\u001b[0m \u001b[0mself\u001b[0m\u001b[0;34m.\u001b[0m\u001b[0minner\u001b[0m\u001b[0;34m(\u001b[0m\u001b[0mit\u001b[0m\u001b[0;34m,\u001b[0m \u001b[0mself\u001b[0m\u001b[0;34m.\u001b[0m\u001b[0mtimer\u001b[0m\u001b[0;34m)\u001b[0m\u001b[0;34m\u001b[0m\u001b[0;34m\u001b[0m\u001b[0m\n\u001b[0m\u001b[1;32m    178\u001b[0m         \u001b[0;32mfinally\u001b[0m\u001b[0;34m:\u001b[0m\u001b[0;34m\u001b[0m\u001b[0;34m\u001b[0m\u001b[0m\n\u001b[1;32m    179\u001b[0m             \u001b[0;32mif\u001b[0m \u001b[0mgcold\u001b[0m\u001b[0;34m:\u001b[0m\u001b[0;34m\u001b[0m\u001b[0;34m\u001b[0m\u001b[0m\n",
      "\u001b[0;32m~/anaconda3/lib/python3.8/timeit.py\u001b[0m in \u001b[0;36minner\u001b[0;34m(_it, _timer, _stmt)\u001b[0m\n",
      "\u001b[0;32m<ipython-input-164-d9747f369c78>\u001b[0m in \u001b[0;36mget_all_genres\u001b[0;34m()\u001b[0m\n\u001b[1;32m     85\u001b[0m \u001b[0;32mdef\u001b[0m \u001b[0mget_all_genres\u001b[0m\u001b[0;34m(\u001b[0m\u001b[0;34m)\u001b[0m\u001b[0;34m:\u001b[0m\u001b[0;34m\u001b[0m\u001b[0;34m\u001b[0m\u001b[0m\n\u001b[1;32m     86\u001b[0m     \u001b[0mgenre_list\u001b[0m \u001b[0;34m=\u001b[0m \u001b[0;34m[\u001b[0m\u001b[0;34m]\u001b[0m\u001b[0;34m\u001b[0m\u001b[0;34m\u001b[0m\u001b[0m\n\u001b[0;32m---> 87\u001b[0;31m     \u001b[0;32mfor\u001b[0m \u001b[0marbre\u001b[0m \u001b[0;32min\u001b[0m \u001b[0mbig_data\u001b[0m\u001b[0;34m:\u001b[0m\u001b[0;34m\u001b[0m\u001b[0;34m\u001b[0m\u001b[0m\n\u001b[0m\u001b[1;32m     88\u001b[0m         \u001b[0;32mif\u001b[0m \u001b[0marbre\u001b[0m\u001b[0;34m[\u001b[0m\u001b[0;34m\"GENRE_BOTA\"\u001b[0m\u001b[0;34m]\u001b[0m \u001b[0;32mnot\u001b[0m \u001b[0;32min\u001b[0m \u001b[0mgenre_list\u001b[0m \u001b[0;32mand\u001b[0m \u001b[0marbre\u001b[0m\u001b[0;34m[\u001b[0m\u001b[0;34m\"GENRE_BOTA\"\u001b[0m\u001b[0;34m]\u001b[0m \u001b[0;34m!=\u001b[0m \u001b[0;34m\"\"\u001b[0m\u001b[0;34m:\u001b[0m\u001b[0;34m\u001b[0m\u001b[0;34m\u001b[0m\u001b[0m\n\u001b[1;32m     89\u001b[0m             \u001b[0mgenre_list\u001b[0m\u001b[0;34m.\u001b[0m\u001b[0mappend\u001b[0m\u001b[0;34m(\u001b[0m\u001b[0marbre\u001b[0m\u001b[0;34m[\u001b[0m\u001b[0;34m\"GENRE_BOTA\"\u001b[0m\u001b[0;34m]\u001b[0m\u001b[0;34m)\u001b[0m\u001b[0;34m\u001b[0m\u001b[0;34m\u001b[0m\u001b[0m\n",
      "\u001b[0;31mKeyboardInterrupt\u001b[0m: "
     ]
    }
   ],
   "source": [
    "import csv\n",
    "import matplotlib.pyplot as plt\n",
    "import timeit\n",
    "\n",
    "mayors = [['Paul Mistral',1919],['Leon Martin',1932],['Paul Cocat',1935],['Frederic Lafleur',1944],['Leon Martin',1945],['Marius Bally',1947],['Raymond Perinetti',1948],['Leon Martin',1949],['Albert Michallon',1959],['Hubert Dubedout',1965],['Alain Carignon',1983],['Michel Destot',1995],['Eric Piolle',2014]] \n",
    "arbres = []\n",
    "headers = []\n",
    "with open(\"Data/ESP_PUBLIC.IDENTITE_ARBRE.csv\", newline='') as csvfile:\n",
    "    lines = csv.reader(csvfile)\n",
    "    i = 0\n",
    "    for row in lines :\n",
    "        if i == 0:\n",
    "            for header in row:\n",
    "                headers.append(header)\n",
    "        else:\n",
    "            arbres.append(row)\n",
    "        i += 1\n",
    "big_data = []\n",
    "j = 0\n",
    "for arbre in arbres:\n",
    "    big_data.append({})\n",
    "    k = 0\n",
    "    for element in headers:\n",
    "        big_data[j][element] = arbre[k]\n",
    "        k += 1\n",
    "    j += 1\n",
    "\n",
    "\n",
    "                        \n",
    "def mayor_of_year(year):\n",
    "    for mandat in mayors:\n",
    "        if year >= mandat[1]:\n",
    "            mayor = mandat[0]\n",
    "    return(mayor)\n",
    "\n",
    "def mayor_planter():\n",
    "    mayor_list = {}\n",
    "    for mayor in mayors:\n",
    "        mayor_list[mayor[0]] = 0\n",
    "    for year in range(1924, 2020):\n",
    "        mayor_list[mayor_of_year(year)] += tree_of_year(year)\n",
    "    print(mayor_list)\n",
    "\n",
    "def tree_graph():\n",
    "    tree_per_year = [[], []]\n",
    "    for year in range(1924, 2020):\n",
    "        tree_per_year[1].append(tree_of_year(year))\n",
    "        tree_per_year[0].append(year)\n",
    "    print(tree_per_year)\n",
    "    plt.plot(tree_per_year[0], tree_per_year[1])\n",
    "    plt.ylabel('Arbres')\n",
    "    plt.show()\n",
    "\n",
    "def year_vs_botanic_type():\n",
    "    year_and_type = []\n",
    "    for arbre in big_data:\n",
    "        year_and_type.append((arbre[\"GENRE_BOTA\"], arbre[\"ANNEEDEPLANTATION\"]))\n",
    "    return(year_and_type)\n",
    "\n",
    "def missing_genre_bota():\n",
    "    count = 0\n",
    "    for genre in year_vs_botanic_type():\n",
    "        if genre[0] == \"\":\n",
    "            count += 1\n",
    "    return count\n",
    "\n",
    "def year_vs_botanic_sort():\n",
    "    return sorted(year_vs_botanic_type(), key=lambda colonnes: colonnes[1], reverse = True)\n",
    "\n",
    "def get_all_genres():\n",
    "    genre_list = []\n",
    "    for arbre in big_data:\n",
    "        if arbre[\"GENRE_BOTA\"] not in genre_list and arbre[\"GENRE_BOTA\"] != \"\":\n",
    "            genre_list.append(arbre[\"GENRE_BOTA\"])\n",
    "    return (len(genre_list))\n",
    "\n",
    "timeit.timeit(get_all_genres)\n",
    "\n",
    "\n",
    "        \n",
    "# print(31892 / (2020 - 1924))\n",
    "    \n",
    "# early_seed = 2020\n",
    "# for arbre in big_data:\n",
    "#     if arbre[\"ANNEEDEPLANTATION\"] != \"\":\n",
    "#         if int(arbre[\"ANNEEDEPLANTATION\"]) < early_seed:\n",
    "#             early_seed = int(arbre[\"ANNEEDEPLANTATION\"])\n",
    "# print (early_seed)    \n",
    "   \n",
    "# count = 0\n",
    "# for arbre in big_data:\n",
    "#     if arbre[\"ANNEEDEPLANTATION\"] == \"\":\n",
    "#         count += 1\n",
    "# print (count)\n",
    "    \n",
    "# annees = []\n",
    "# for arbre in big_data:\n",
    "#     annees.append(arbre[\"ANNEEDEPLANTATION\"])\n",
    "# count = 0\n",
    "# for annee in annees:\n",
    "#     if count < 50 or count > len(annees) - 50:\n",
    "#         print(annee)\n",
    "#     count += 1\n",
    "    \n",
    "    \n",
    "# print(len(big_data))\n",
    "# count = 0\n",
    "# for arbre in big_data:\n",
    "#     if count < 50 or count > 31842:\n",
    "#         print(arbre)\n",
    "#         print(count)\n",
    "#         print(31892 - count)\n",
    "#     count += 1\n",
    "    \n",
    "    \n",
    "# for arbre in big_data:\n",
    "#     print(arbre[\"ANNEEDEPLANTATION\"])"
   ]
  },
  {
   "cell_type": "markdown",
   "metadata": {},
   "source": [
    "## comment"
   ]
  },
  {
   "cell_type": "code",
   "execution_count": null,
   "metadata": {},
   "outputs": [],
   "source": [
    "buddy_tree = 0\n",
    "for arbre in big_data:\n",
    "    if arbre[\"ANNEEDEPLANTATION\"] >= \"1982\":\n",
    "        buddy_tree += 1\n",
    "print (buddy_tree) "
   ]
  },
  {
   "cell_type": "markdown",
   "metadata": {},
   "source": [
    "comment"
   ]
  },
  {
   "cell_type": "code",
   "execution_count": null,
   "metadata": {},
   "outputs": [],
   "source": [
    "tree_of_year = 0\n",
    "for arbre in big_data:\n",
    "    if arbre[\"ANNEEDEPLANTATION\"] != \"\":\n",
    "        if int(arbre[\"ANNEEDEPLANTATION\"]) == year:\n",
    "            tree_of_year += 1"
   ]
  },
  {
   "cell_type": "markdown",
   "metadata": {},
   "source": [
    "Mayor\n"
   ]
  },
  {
   "cell_type": "code",
   "execution_count": null,
   "metadata": {},
   "outputs": [],
   "source": [
    "for mandat in mayors:\n",
    "    if year >= mandat[1]:\n",
    "        mayor = mandat[0]\n"
   ]
  }
 ],
 "metadata": {
  "kernelspec": {
   "display_name": "Python 3",
   "language": "python",
   "name": "python3"
  },
  "language_info": {
   "codemirror_mode": {
    "name": "ipython",
    "version": 3
   },
   "file_extension": ".py",
   "mimetype": "text/x-python",
   "name": "python",
   "nbconvert_exporter": "python",
   "pygments_lexer": "ipython3",
   "version": "3.8.3"
  }
 },
 "nbformat": 4,
 "nbformat_minor": 4
}
